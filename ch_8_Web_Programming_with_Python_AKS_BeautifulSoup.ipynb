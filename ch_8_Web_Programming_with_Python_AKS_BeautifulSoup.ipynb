{
  "cells": [
    {
      "cell_type": "markdown",
      "metadata": {
        "id": "view-in-github",
        "colab_type": "text"
      },
      "source": [
        "<a href=\"https://colab.research.google.com/github/hiiya74/Sem-4-Python/blob/main/ch_8_Web_Programming_with_Python_AKS_BeautifulSoup.ipynb\" target=\"_parent\"><img src=\"https://colab.research.google.com/assets/colab-badge.svg\" alt=\"Open In Colab\"/></a>"
      ]
    },
    {
      "cell_type": "markdown",
      "source": [
        "# ***Server And Socket***"
      ],
      "metadata": {
        "id": "FBkHZA0a0-TJ"
      }
    },
    {
      "cell_type": "markdown",
      "source": [
        "TCP"
      ],
      "metadata": {
        "id": "4_cRr7Vz1VhA"
      }
    },
    {
      "cell_type": "code",
      "execution_count": null,
      "metadata": {
        "id": "wfvX0MOkznKX"
      },
      "outputs": [],
      "source": [
        "%%writefile serverTCP.py\n",
        "import socket\n",
        "host = socket.gethostname() #store IP address\n",
        "port=3600\n",
        "server_socket = socket.socket()\n",
        "server_socket.bind((host, port))\n",
        "server_socket.listen()\n",
        "conn,addr=server_socket.accept()\n",
        "print('connection from',str(addr))\n",
        "while True:\n",
        "    data=conn.recv(1024).decode()\n",
        "    if not data:\n",
        "        break\n",
        "    print(data)\n",
        "    data=input('-')\n",
        "    conn.send(data.encode()) #str to bytes\n",
        "conn.close()"
      ]
    },
    {
      "cell_type": "code",
      "execution_count": null,
      "metadata": {
        "id": "L8boM8inzm8-"
      },
      "outputs": [],
      "source": [
        "%%writefile clientTCP.py\n",
        "import socket\n",
        "host = socket.gethostname()\n",
        "port=3600\n",
        "client_socket=socket.socket()\n",
        "client_socket.connect((host,port))\n",
        "message=input('-')\n",
        "while message:\n",
        "    client_socket.send(message.encode())\n",
        "    data=client_socket.recv(1024).decode() #bytes to str\n",
        "    print(\"received from server\",data)\n",
        "    message=input(\"-\")\n",
        "client_socket.close()\n"
      ]
    },
    {
      "cell_type": "markdown",
      "source": [
        "UDP"
      ],
      "metadata": {
        "id": "jTWVxjAt1XW-"
      }
    },
    {
      "cell_type": "code",
      "execution_count": null,
      "metadata": {
        "id": "vcgUp-WRzm0e"
      },
      "outputs": [],
      "source": [
        "%%writefile serverUDP.py\n",
        "import socket\n",
        "host= socket.gethostname()\n",
        "port=5100\n",
        "udp_client=socket.socket(type=socket.SOCK_DGRAM)\n",
        "udp_sever.bind((host,port))\n",
        "while True:\n",
        "    print('waiting for message')\n",
        "    data,addr=udp_server.recvfrom(1024)\n",
        "    print('received',data.decode(),'from',addr)\n",
        "    msg=input('Enter msg:')\n",
        "    udp_server.sendto(msg.encode(),addr)\n",
        "udp_server.close()"
      ]
    },
    {
      "cell_type": "code",
      "execution_count": null,
      "metadata": {
        "id": "zs9Or6gjzmnf"
      },
      "outputs": [],
      "source": [
        "%%writefile clientUDP.py\n",
        "import socket\n",
        "host = socket.gethostname()\n",
        "port = 4701\n",
        "udp_client = socket.socket(type=socket.SOCK_DGRAM)\n",
        "while True:\n",
        "    msg = input('enter msg')\n",
        "    if not msg:\n",
        "        break\n",
        "    udp_client.sendto(msg.encode(),(host,port))\n",
        "    print('ready toooo')\n",
        "    data,addr = udp_client.recvfrom(1024)\n",
        "    if not data:\n",
        "        break\n",
        "    print('received',data.decode())\n",
        "udp_client.close()"
      ]
    },
    {
      "cell_type": "markdown",
      "metadata": {
        "id": "VeWpfdGczyPT"
      },
      "source": [
        "***QB-349*** write a Python program to build a UDP localhost host server that accepts a number\n",
        "from client and returns the square of that number to the client. (write server side program only)\n",
        "(client program will be same as UDP)"
      ]
    },
    {
      "cell_type": "code",
      "execution_count": null,
      "metadata": {
        "id": "Rs-TbMeUzmcG"
      },
      "outputs": [],
      "source": [
        "%%writefile serverPB.py\n",
        "import socket\n",
        "host=socket.gethostname()\n",
        "port=4701\n",
        "server_socket=socket.socket(type=socket.SOCK_DGRAM)\n",
        "server_socket.bind((host,port))\n",
        "print(f\"UDP Server Listening on {host}:{port}\")\n",
        "while True:\n",
        "    data,addr=server_socket.recvfrom(1024)\n",
        "    try:\n",
        "        number=int(data.decode())\n",
        "        squared=number**2\n",
        "        response=str(squared)\n",
        "    except ValueError:\n",
        "        response=\"invalid\"\n",
        "    server_socket.sendto(response.encode(),addr)\n",
        "server_soclet.close()"
      ]
    },
    {
      "cell_type": "markdown",
      "source": [
        "**Building a Simple Web Browser in Python**"
      ],
      "metadata": {
        "id": "URqKH29L2W97"
      }
    },
    {
      "cell_type": "code",
      "execution_count": null,
      "metadata": {
        "colab": {
          "base_uri": "https://localhost:8080/"
        },
        "id": "WhV7TeIkZPwk",
        "outputId": "986c9141-9f39-46ab-c669-0fae23bdf9bc"
      },
      "outputs": [
        {
          "name": "stdout",
          "output_type": "stream",
          "text": [
            "HTTP/1.1 200 OK\r\n",
            "Date: Wed, 04 Jun 2025 07:01:55 GMT\r\n",
            "Server: Apache/2.4.52 (Ubuntu)\r\n",
            "Last-Modified: Sat, 13 May 2017 11:22:22 GMT\r\n",
            "ETag: \"a7-54f6609245537\"\r\n",
            "Accept-Ranges: bytes\r\n",
            "Content-Length: 167\r\n",
            "Cache-Control: max-age=0, no-cache, no-store, must-revalidate\r\n",
            "Pragma: no-cache\r\n",
            "Expires: Wed, 11 Jan 1984 05:00:00 GMT\r\n",
            "Connection: close\r\n",
            "Content-Type: text/plain\r\n",
            "\r\n",
            "But soft what light through yonder window breaks\n",
            "It is the east and Juliet is the sun\n",
            "Arise fair sun and kill the envious moon\n",
            "Who is already s ick and pale with grief\n",
            " "
          ]
        }
      ],
      "source": [
        "import socket\n",
        "mysock=socket.socket()\n",
        "mysock.connect(('data.pr4e.org',80))\n",
        "cmd='GET http://data.pr4e.org/romeo.txt HTTP/1.0\\r\\n\\r\\n'.encode()\n",
        "mysock.send(cmd)\n",
        "while True:\n",
        "    data=mysock.recv(512)\n",
        "    if len(data)<1:\n",
        "        break\n",
        "    print(data.decode(),end=\" \")\n",
        "mysock.close()"
      ]
    },
    {
      "cell_type": "markdown",
      "source": [
        "**Building a Simple HTTP Server in Python**"
      ],
      "metadata": {
        "id": "g1HsGYno2K_4"
      }
    },
    {
      "cell_type": "code",
      "execution_count": null,
      "metadata": {
        "colab": {
          "background_save": true,
          "base_uri": "https://localhost:8080/"
        },
        "id": "4ymj6dxJvutK",
        "outputId": "0e975308-494c-4405-d470-e7a1c8ea4e21"
      },
      "outputs": [
        {
          "output_type": "stream",
          "name": "stdout",
          "text": [
            "Access http://localhost:8400\n"
          ]
        }
      ],
      "source": [
        "import socket\n",
        "def createServer():\n",
        "    serversocket=socket.socket()\n",
        "    serversocket.bind(('localhost',8400))\n",
        "    serversocket.listen()\n",
        "    while True:\n",
        "        (clientsocket,addr)=serversocket.accept()\n",
        "        rd=clientsocket.recv(5000).decode()\n",
        "        print(rd)\n",
        "        data=\"HTTP/1.1 200 OK\\r\\n\"\n",
        "        data+=\"Content-Type:text/html;charset=utf-8\\r\\n\"\n",
        "        data+=\"\\r\\n\"\n",
        "        data+=\"<html><body>Hello Word</body></html>\\r\\n\\r\\n\"\n",
        "        clientsocket.send(data.encode())\n",
        "    serversocket.close()\n",
        "print('Access http://localhost:8400')\n",
        "createServer()"
      ]
    },
    {
      "cell_type": "code",
      "source": [],
      "metadata": {
        "id": "u3duP-jj1TGo"
      },
      "execution_count": null,
      "outputs": []
    }
  ],
  "metadata": {
    "colab": {
      "provenance": [],
      "authorship_tag": "ABX9TyO8vsKUA5ia0dcHyebGjZpY",
      "include_colab_link": true
    },
    "kernelspec": {
      "display_name": "Python 3",
      "name": "python3"
    },
    "language_info": {
      "name": "python"
    }
  },
  "nbformat": 4,
  "nbformat_minor": 0
}