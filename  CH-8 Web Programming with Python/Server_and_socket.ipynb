{
 "cells": [
  {
   "cell_type": "code",
   "execution_count": 8,
   "id": "914b1d58-ddb0-42af-b085-fcec1afc4c45",
   "metadata": {},
   "outputs": [
    {
     "name": "stdout",
     "output_type": "stream",
     "text": [
      "Overwriting serverTCP.py\n"
     ]
    }
   ],
   "source": [
    "%%writefile serverTCP.py\n",
    "import socket\n",
    "host = socket.gethostname() #store IP address\n",
    "port=3600\n",
    "server_socket = socket.socket()\n",
    "server_socket.bind((host, port))\n",
    "server_socket.listen()\n",
    "conn,addr=server_socket.accept()\n",
    "print('connection from',str(addr))\n",
    "while True:\n",
    "    data=conn.recv(1024).decode()\n",
    "    if not data:\n",
    "        break\n",
    "    print(data)\n",
    "    data=input('-')\n",
    "    conn.send(data.encode()) #str to bytes\n",
    "conn.close()"
   ]
  },
  {
   "cell_type": "code",
   "execution_count": 20,
   "id": "97a2b441-7bdc-4631-81e0-9233125ee313",
   "metadata": {},
   "outputs": [
    {
     "name": "stdout",
     "output_type": "stream",
     "text": [
      "Overwriting clientTCP.py\n"
     ]
    }
   ],
   "source": [
    "%%writefile clientTCP.py\n",
    "import socket\n",
    "host = socket.gethostname()\n",
    "port=3600\n",
    "client_socket=socket.socket()\n",
    "client_socket.connect((host,port))\n",
    "message=input('-')\n",
    "while message:\n",
    "    client_socket.send(message.encode())\n",
    "    data=client_socket.recv(1024).decode() #bytes to str\n",
    "    print(\"received from server\",data)\n",
    "    message=input(\"-\")\n",
    "client_socket.close()\n"
   ]
  },
  {
   "cell_type": "code",
   "execution_count": 22,
   "id": "15af36b9-1f23-4838-9261-a46199a6709f",
   "metadata": {},
   "outputs": [
    {
     "name": "stdout",
     "output_type": "stream",
     "text": [
      "Overwriting serverUDP.py\n"
     ]
    }
   ],
   "source": [
    "%%writefile serverUDP.py\n",
    "import socket \n",
    "host= socket.gethostname()\n",
    "port=5100\n",
    "udp_client=socket.socket(type=socket.SOCK_DGRAM)\n",
    "udp_sever.bind((host,port))\n",
    "while True:\n",
    "    print('waiting for message')\n",
    "    data,addr=udp_server.recvfrom(1024)\n",
    "    print('received',data.decode(),'from',addr)\n",
    "    msg=input('Enter msg:')\n",
    "    udp_server.sendto(msg.encode(),addr)\n",
    "udp_server.close()"
   ]
  },
  {
   "cell_type": "code",
   "execution_count": 28,
   "id": "6144b6d2-9645-488f-84cb-453411e8840f",
   "metadata": {},
   "outputs": [
    {
     "name": "stdout",
     "output_type": "stream",
     "text": [
      "Overwriting clientUDP.py\n"
     ]
    }
   ],
   "source": [
    "%%writefile clientUDP.py\n",
    "import socket\n",
    "host = socket.gethostname()\n",
    "port = 4701\n",
    "udp_client = socket.socket(type=socket.SOCK_DGRAM)\n",
    "while True:\n",
    "    msg = input('enter msg')\n",
    "    if not msg:\n",
    "        break\n",
    "    udp_client.sendto(msg.encode(),(host,port))\n",
    "    print('ready toooo')\n",
    "    data,addr = udp_client.recvfrom(1024)\n",
    "    if not data:\n",
    "        break\n",
    "    print('received',data.decode())\n",
    "udp_client.close()"
   ]
  },
  {
   "cell_type": "code",
   "execution_count": null,
   "id": "e5ff5310-e244-48e8-9832-faa645623f27",
   "metadata": {},
   "outputs": [],
   "source": [
    "# qb-349 Write a Python program to build a UDP localhost host server that accepts a number\n",
    "# from client and returns the square of that number to the client. (write server side program\n",
    "# only)"
   ]
  },
  {
   "cell_type": "code",
   "execution_count": 36,
   "id": "6f10cec1-05e6-44ed-b11e-6f0063b07682",
   "metadata": {},
   "outputs": [
    {
     "name": "stdout",
     "output_type": "stream",
     "text": [
      "Overwriting serverPB.py\n"
     ]
    }
   ],
   "source": [
    "%%writefile serverPB.py\n",
    "import socket\n",
    "host=socket.gethostname()\n",
    "port=4701\n",
    "server_socket=socket.socket(type=socket.SOCK_DGRAM)\n",
    "server_socket.bind((host,port))\n",
    "print(f\"UDP Server Listening on {host}:{port}\")\n",
    "while True:\n",
    "    data,addr=server_socket.recvfrom(1024)\n",
    "    try:\n",
    "        number=int(data.decode())\n",
    "        squared=number**2\n",
    "        response=str(squared)\n",
    "    except ValueError:\n",
    "        response=\"invalid\"\n",
    "    server_socket.sendto(response.encode(),addr)\n",
    "server_soclet.close()"
   ]
  },
  {
   "cell_type": "code",
   "execution_count": 52,
   "id": "cae2aa5c-49b9-4384-ad9f-0bb43db077e2",
   "metadata": {},
   "outputs": [
    {
     "name": "stdout",
     "output_type": "stream",
     "text": [
      "HTTP/1.1 200 OK\n",
      "Date: Wed, 04 Jun 2025 07:29:36 GMT\n",
      "Server: Apache/2.4.52 (Ubuntu)\n",
      "Last-Modified: Sat, 13 May 2017 11:22:22 GMT\n",
      "ETag: \"a7-54f6609245537\"\n",
      "Accept-Ranges: bytes\n",
      "Content-Length: 167\n",
      "Cache-Control: max-age=0, no-cache, no-store, must-revalidate\n",
      "Pragma: no-cache\n",
      "Expires: Wed, 11 Jan 1984 05:00:00 GMT\n",
      "Connection: close\n",
      "Content-Type: text/plain\n",
      "\n",
      "But soft what light through yonder window breaks\n",
      "It is the east and Juliet is the sun\n",
      "Arise fair sun and kill the envious moon\n",
      "Who is already s ick and pale with grief\n",
      " "
     ]
    }
   ],
   "source": [
    "#simple web browser(Tep client)\n",
    "import socket\n",
    "mysock=socket.socket()\n",
    "mysock.connect(('data.pr4e.org',80))\n",
    "cmd='GET http://data.pr4e.org/romeo.txt HTTP/1.0\\r\\n\\r\\n'.encode()\n",
    "mysock.send(cmd)\n",
    "while True:\n",
    "    data=mysock.recv(512)\n",
    "    if len(data)<1:\n",
    "        break\n",
    "    print(data.decode(),end=\" \")\n",
    "mysock.close()"
   ]
  },
  {
   "cell_type": "code",
   "execution_count": null,
   "id": "5549f508-6deb-4337-a7d1-a31d6ff0e8b5",
   "metadata": {},
   "outputs": [
    {
     "name": "stdout",
     "output_type": "stream",
     "text": [
      "Access http://localhost:8400\n",
      "GET / HTTP/1.1\n",
      "Host: localhost:8400\n",
      "Connection: keep-alive\n",
      "sec-ch-ua: \"Google Chrome\";v=\"137\", \"Chromium\";v=\"137\", \"Not/A)Brand\";v=\"24\"\n",
      "sec-ch-ua-mobile: ?0\n",
      "sec-ch-ua-platform: \"macOS\"\n",
      "Upgrade-Insecure-Requests: 1\n",
      "User-Agent: Mozilla/5.0 (Macintosh; Intel Mac OS X 10_15_7) AppleWebKit/537.36 (KHTML, like Gecko) Chrome/137.0.0.0 Safari/537.36\n",
      "Accept: text/html,application/xhtml+xml,application/xml;q=0.9,image/avif,image/webp,image/apng,*/*;q=0.8,application/signed-exchange;v=b3;q=0.7\n",
      "Sec-Fetch-Site: same-site\n",
      "Sec-Fetch-Mode: navigate\n",
      "Sec-Fetch-User: ?1\n",
      "Sec-Fetch-Dest: document\n",
      "Referer: http://localhost:8888/\n",
      "Accept-Encoding: gzip, deflate, br, zstd\n",
      "Accept-Language: en-IN,en-GB;q=0.9,en-US;q=0.8,en;q=0.7,hi;q=0.6,gu;q=0.5\n",
      "Cookie: username-localhost-8888=\"2|1:0|10:1748931294|23:username-localhost-8888|192:eyJ1c2VybmFtZSI6ICIxMjk3NWZmNzY0Yjk0N2FiOTRmYjc1OGQxN2NiZTY0NyIsICJuYW1lIjogIkFub255bW91cyBDYXJwbyIsICJkaXNwbGF5X25hbWUiOiAiQW5vbnltb3VzIENhcnBvIiwgImluaXRpYWxzIjogIkFDIiwgImNvbG9yIjogbnVsbH0=|4897359bcc31ac20f08203f27075f3555cfeb1444ec6f689723f74f4df955ea9\"; _xsrf=2|5ad9b73d|5df706ad4f707c32c8972b8b2e9c99a8|1748931294\n",
      "\n",
      "\n",
      "GET /favicon.ico HTTP/1.1\n",
      "Host: localhost:8400\n",
      "Connection: keep-alive\n",
      "sec-ch-ua-platform: \"macOS\"\n",
      "User-Agent: Mozilla/5.0 (Macintosh; Intel Mac OS X 10_15_7) AppleWebKit/537.36 (KHTML, like Gecko) Chrome/137.0.0.0 Safari/537.36\n",
      "sec-ch-ua: \"Google Chrome\";v=\"137\", \"Chromium\";v=\"137\", \"Not/A)Brand\";v=\"24\"\n",
      "sec-ch-ua-mobile: ?0\n",
      "Accept: image/avif,image/webp,image/apng,image/svg+xml,image/*,*/*;q=0.8\n",
      "Sec-Fetch-Site: same-origin\n",
      "Sec-Fetch-Mode: no-cors\n",
      "Sec-Fetch-Dest: image\n",
      "Referer: http://localhost:8400/\n",
      "Accept-Encoding: gzip, deflate, br, zstd\n",
      "Accept-Language: en-IN,en-GB;q=0.9,en-US;q=0.8,en;q=0.7,hi;q=0.6,gu;q=0.5\n",
      "Cookie: username-localhost-8888=\"2|1:0|10:1748931294|23:username-localhost-8888|192:eyJ1c2VybmFtZSI6ICIxMjk3NWZmNzY0Yjk0N2FiOTRmYjc1OGQxN2NiZTY0NyIsICJuYW1lIjogIkFub255bW91cyBDYXJwbyIsICJkaXNwbGF5X25hbWUiOiAiQW5vbnltb3VzIENhcnBvIiwgImluaXRpYWxzIjogIkFDIiwgImNvbG9yIjogbnVsbH0=|4897359bcc31ac20f08203f27075f3555cfeb1444ec6f689723f74f4df955ea9\"; _xsrf=2|5ad9b73d|5df706ad4f707c32c8972b8b2e9c99a8|1748931294\n",
      "\n",
      "\n",
      "GET / HTTP/1.1\n",
      "Host: localhost:8400\n",
      "Connection: keep-alive\n",
      "sec-ch-ua: \"Google Chrome\";v=\"137\", \"Chromium\";v=\"137\", \"Not/A)Brand\";v=\"24\"\n",
      "sec-ch-ua-mobile: ?0\n",
      "sec-ch-ua-platform: \"macOS\"\n",
      "Upgrade-Insecure-Requests: 1\n",
      "User-Agent: Mozilla/5.0 (Macintosh; Intel Mac OS X 10_15_7) AppleWebKit/537.36 (KHTML, like Gecko) Chrome/137.0.0.0 Safari/537.36\n",
      "Accept: text/html,application/xhtml+xml,application/xml;q=0.9,image/avif,image/webp,image/apng,*/*;q=0.8,application/signed-exchange;v=b3;q=0.7\n",
      "Sec-Fetch-Site: same-site\n",
      "Sec-Fetch-Mode: navigate\n",
      "Sec-Fetch-User: ?1\n",
      "Sec-Fetch-Dest: document\n",
      "Referer: http://localhost:8888/\n",
      "Accept-Encoding: gzip, deflate, br, zstd\n",
      "Accept-Language: en-IN,en-GB;q=0.9,en-US;q=0.8,en;q=0.7,hi;q=0.6,gu;q=0.5\n",
      "Cookie: username-localhost-8888=\"2|1:0|10:1748931294|23:username-localhost-8888|192:eyJ1c2VybmFtZSI6ICIxMjk3NWZmNzY0Yjk0N2FiOTRmYjc1OGQxN2NiZTY0NyIsICJuYW1lIjogIkFub255bW91cyBDYXJwbyIsICJkaXNwbGF5X25hbWUiOiAiQW5vbnltb3VzIENhcnBvIiwgImluaXRpYWxzIjogIkFDIiwgImNvbG9yIjogbnVsbH0=|4897359bcc31ac20f08203f27075f3555cfeb1444ec6f689723f74f4df955ea9\"; _xsrf=2|5ad9b73d|5df706ad4f707c32c8972b8b2e9c99a8|1748931294\n",
      "\n",
      "\n"
     ]
    }
   ],
   "source": [
    "#building a simple HTTP server in python(Tep sever)\n",
    "import socket\n",
    "def createServer():\n",
    "    serversocket=socket.socket()\n",
    "    serversocket.bind(('localhost',8400))\n",
    "    serversocket.listen()\n",
    "    while True:\n",
    "        (clientsocket,addr)=serversocket.accept()\n",
    "        rd=clientsocket.recv(5000).decode()\n",
    "        print(rd)\n",
    "        data=\"HTTP/1.1 200 OK\\r\\n\"\n",
    "        data+=\"Content-Type:text/html;charset=utf-8\\r\\n\"\n",
    "        data+=\"\\r\\n\"\n",
    "        data+=\"<html><body>Hello Word</body></html>\\r\\n\\r\\n\"\n",
    "        clientsocket.send(data.encode())\n",
    "    serversocket.close()\n",
    "print('Access http://localhost:8400')\n",
    "createServer()"
   ]
  },
  {
   "cell_type": "code",
   "execution_count": null,
   "id": "6ab1c464-3273-482f-9f48-e4527cfd1c14",
   "metadata": {},
   "outputs": [],
   "source": []
  }
 ],
 "metadata": {
  "kernelspec": {
   "display_name": "Python 3 (ipykernel)",
   "language": "python",
   "name": "python3"
  },
  "language_info": {
   "codemirror_mode": {
    "name": "ipython",
    "version": 3
   },
   "file_extension": ".py",
   "mimetype": "text/x-python",
   "name": "python",
   "nbconvert_exporter": "python",
   "pygments_lexer": "ipython3",
   "version": "3.12.4"
  }
 },
 "nbformat": 4,
 "nbformat_minor": 5
}
